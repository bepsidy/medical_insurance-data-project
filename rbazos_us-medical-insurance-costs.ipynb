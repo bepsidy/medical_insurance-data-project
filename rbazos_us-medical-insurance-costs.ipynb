{
 "cells": [
  {
   "cell_type": "markdown",
   "metadata": {},
   "source": [
    "# U.S. Medical Insurance Costs"
   ]
  },
  {
   "cell_type": "markdown",
   "metadata": {},
   "source": [
    "# Introduction\n",
    "\n",
    "Using data from \"Machine Learning With R\" by Brett Lantz [via Kaggle](https://www.kaggle.com/datasets/mirichoi0218/insurance), we have been tasked with using Python to organize the data and perform some descriptive analysis. \n",
    "\n",
    "We have a .csv file containing the insurance costs and associated anonymized demographic data for 1338 people. There is no missing data across our 7 columns. The columns vary between numerical and categorical data. \n",
    "\n",
    "## Set up:\n",
    "\n",
    "The first step will be importing the .csv library."
   ]
  },
  {
   "cell_type": "code",
   "execution_count": 260,
   "metadata": {},
   "outputs": [],
   "source": [
    "import csv"
   ]
  },
  {
   "cell_type": "markdown",
   "metadata": {},
   "source": [
    "Now we can import the .csv file. Our .csv is organized into these categories: age, sex, bmi, children, smoker, region, and charges. \n",
    "\n",
    "Since we're obviously going to need to interact with these columns in our program, let's save those values into lists with the same names."
   ]
  },
  {
   "cell_type": "code",
   "execution_count": 261,
   "metadata": {},
   "outputs": [
    {
     "name": "stdout",
     "output_type": "stream",
     "text": [
      "['children', '0', '1', '3', '0', '0', '0', '1', '3', '2', '0', '0', '0', '0', '0', '0', '1', '1', '0', '0', '0', '0', '1', '0', '1', '2', '3', '0', '2', '1', '2', '0', '0', '5', '0', '1', '0', '3', '0', '1', '0', '0', '2', '1', '2', '1', '0', '2', '0', '0', '1', '0', '2', '1', '0', '3', '2', '2', '2', '1', '2', '3', '4', '1', '1', '0', '0', '2', '1', '0', '3', '0', '5', '3', '1', '2', '0', '1', '0', '0', '0', '1', '0', '1', '4', '2', '2', '0', '0', '0', '0', '0', '1', '3', '2', '2', '1', '3', '0', '0', '0', '0', '0', '0', '3', '1', '1', '1', '2', '0', '0', '1', '2', '0', '0', '3', '0', '0', '1', '0', '2', '2', '0', '0', '1', '3', '0', '0', '0', '2', '2', '0', '0', '2', '0', '0', '0', '0', '0', '3', '0', '2', '1', '2', '2', '3', '3', '3', '1', '1', '1', '1', '0', '3', '0', '1', '0', '0', '0', '0', '3', '0', '0', '1', '2', '0', '4', '5', '3', '1', '3', '0', '0', '0', '1', '0', '0', '2', '1', '2', '3', '0', '0', '3', '0', '2', '3', '2', '3', '1', '2', '0', '0', '0', '1', '0', '0', '0', '2', '0', '0', '0', '1', '0', '0', '0', '1', '0', '2', '0', '1', '1', '4', '2', '1', '2', '2', '0', '0', '1', '0', '1', '0', '3', '0', '0', '3', '0', '0', '1', '2', '1', '3', '0', '1', '2', '2', '0', '2', '0', '1', '2', '1', '1', '3', '0', '0', '0', '0', '1', '1', '2', '2', '2', '3', '0', '3', '0', '0', '4', '0', '0', '1', '3', '0', '3', '3', '1', '3', '1', '1', '1', '2', '2', '1', '0', '2', '2', '0', '2', '1', '1', '3', '1', '1', '0', '1', '2', '0', '1', '3', '0', '1', '2', '0', '3', '0', '0', '1', '3', '1', '3', '3', '2', '2', '2', '2', '2', '1', '0', '2', '0', '0', '3', '0', '0', '0', '0', '0', '0', '1', '1', '4', '0', '0', '0', '1', '1', '2', '1', '0', '1', '0', '0', '0', '2', '0', '0', '1', '1', '1', '0', '0', '0', '0', '4', '3', '2', '1', '1', '0', '0', '0', '0', '0', '0', '0', '3', '3', '0', '0', '2', '1', '0', '1', '2', '1', '3', '2', '2', '3', '0', '0', '1', '2', '0', '0', '3', '0', '3', '1', '2', '0', '0', '2', '2', '0', '0', '2', '0', '3', '4', '0', '1', '1', '2', '0', '3', '0', '2', '0', '0', '1', '0', '3', '0', '2', '0', '1', '3', '1', '0', '1', '2', '5', '0', '1', '0', '2', '1', '0', '0', '0', '1', '0', '2', '5', '1', '0', '1', '3', '0', '2', '0', '0', '1', '3', '0', '3', '5', '0', '1', '0', '0', '1', '1', '0', '0', '0', '0', '1', '4', '1', '0', '0', '2', '0', '2', '0', '0', '3', '3', '0', '2', '0', '0', '1', '1', '2', '1', '1', '0', '0', '0', '0', '3', '1', '0', '0', '0', '0', '3', '2', '0', '1', '3', '0', '3', '0', '0', '1', '0', '0', '0', '0', '4', '0', '2', '2', '2', '0', '0', '0', '1', '0', '1', '3', '1', '2', '0', '0', '1', '0', '0', '0', '1', '0', '1', '2', '1', '0', '0', '0', '0', '0', '1', '0', '2', '1', '1', '0', '1', '0', '2', '0', '0', '1', '3', '2', '1', '0', '3', '2', '0', '0', '0', '2', '0', '2', '0', '0', '0', '0', '0', '2', '0', '2', '1', '0', '3', '0', '2', '0', '0', '1', '2', '0', '1', '2', '5', '2', '0', '1', '2', '1', '2', '0', '0', '1', '1', '0', '1', '0', '2', '1', '0', '1', '3', '1', '0', '1', '0', '1', '2', '1', '0', '1', '2', '1', '2', '2', '0', '0', '0', '3', '0', '0', '0', '0', '2', '2', '1', '2', '0', '3', '0', '1', '0', '2', '0', '0', '1', '4', '1', '0', '0', '0', '3', '1', '0', '0', '1', '0', '0', '2', '1', '0', '1', '2', '0', '4', '5', '3', '0', '3', '2', '3', '1', '3', '0', '0', '2', '1', '0', '2', '0', '2', '1', '2', '1', '4', '3', '1', '1', '0', '0', '2', '1', '2', '0', '1', '3', '0', '0', '0', '2', '0', '3', '3', '3', '2', '1', '0', '2', '0', '1', '2', '2', '0', '1', '1', '0', '1', '1', '0', '1', '0', '2', '1', '0', '2', '0', '0', '0', '1', '1', '2', '0', '3', '3', '0', '1', '2', '2', '0', '0', '0', '1', '1', '2', '0', '0', '3', '0', '0', '1', '3', '1', '1', '0', '1', '3', '1', '3', '1', '3', '1', '0', '2', '3', '2', '2', '0', '0', '0', '0', '1', '2', '0', '1', '0', '0', '0', '0', '0', '4', '2', '3', '0', '3', '0', '2', '1', '1', '0', '2', '0', '1', '1', '0', '2', '3', '2', '0', '0', '2', '3', '2', '0', '3', '0', '3', '0', '1', '1', '1', '3', '0', '0', '3', '0', '0', '0', '0', '0', '2', '0', '2', '1', '0', '0', '1', '0', '1', '0', '0', '0', '1', '0', '0', '1', '3', '3', '2', '2', '2', '0', '0', '3', '1', '0', '1', '0', '0', '2', '0', '2', '2', '1', '3', '1', '0', '0', '2', '0', '1', '2', '0', '0', '2', '0', '0', '0', '2', '0', '0', '0', '1', '1', '0', '0', '0', '2', '0', '2', '3', '0', '0', '0', '1', '0', '2', '3', '2', '0', '0', '2', '0', '1', '0', '3', '0', '1', '0', '1', '3', '0', '1', '5', '1', '2', '3', '1', '0', '3', '4', '1', '0', '0', '0', '1', '0', '4', '0', '2', '0', '0', '2', '1', '0', '0', '0', '0', '3', '0', '0', '2', '3', '1', '3', '0', '1', '0', '3', '1', '2', '0', '0', '0', '0', '1', '0', '0', '1', '0', '0', '2', '2', '1', '0', '1', '1', '1', '5', '0', '2', '0', '2', '5', '2', '0', '0', '1', '0', '0', '0', '1', '2', '1', '0', '3', '0', '2', '1', '2', '1', '1', '1', '1', '1', '1', '1', '0', '1', '3', '2', '1', '2', '1', '2', '5', '3', '0', '0', '0', '0', '0', '0', '1', '3', '0', '1', '0', '3', '1', '5', '1', '3', '1', '0', '0', '1', '2', '2', '1', '3', '3', '3', '0', '3', '0', '2', '0', '0', '0', '1', '2', '2', '3', '2', '1', '0', '2', '4', '1', '0', '0', '1', '2', '3', '2', '0', '3', '1', '1', '1', '0', '1', '0', '0', '2', '1', '0', '0', '0', '0', '3', '2', '1', '0', '2', '0', '0', '0', '0', '1', '2', '0', '1', '1', '0', '1', '0', '1', '3', '0', '0', '0', '0', '0', '1', '0', '1', '1', '3', '4', '1', '2', '0', '1', '1', '1', '0', '0', '2', '0', '1', '1', '0', '0', '3', '2', '1', '1', '1', '2', '5', '0', '0', '1', '0', '0', '0', '3', '0', '4', '4', '2', '0', '0', '1', '2', '3', '1', '0', '0', '0', '0', '2', '1', '3', '1', '3', '3', '3', '0', '1', '5', '2', '1', '3', '0', '2', '3', '1', '1', '0', '0', '2', '1', '0', '5', '2', '0', '0', '0', '3', '1', '0', '0', '0', '1', '3', '0', '2', '2', '3', '0', '0', '1', '0', '0', '0', '3', '1', '4', '3', '0', '2', '0', '0', '1', '2', '1', '0', '1', '0', '0', '2', '2', '1', '1', '2', '0', '2', '2', '0', '1', '1', '0', '0', '1', '0', '0', '1', '1', '2', '3', '0', '1', '0', '2', '1', '1', '0', '0', '3', '0', '0', '1', '2', '2', '2', '0', '1', '3', '1', '2', '2', '1', '1', '1', '2', '0', '2', '1', '0', '0', '2', '1', '3', '1', '2', '0', '0', '1', '1', '2', '2', '0', '0', '3', '0', '3', '0', '2', '0', '0', '0', '3', '1', '2', '2', '3', '0', '0', '5', '3', '4', '0', '1', '0', '0', '0', '4', '0', '0', '3', '1', '3', '0', '0', '1', '1', '1', '2', '0', '0', '0', '0', '3', '1', '0', '5', '1', '0', '0', '0', '0', '1', '2', '0', '2', '0', '1', '1', '0', '0', '1', '2', '1', '2', '0', '0', '3', '0', '1', '0', '2', '2', '1', '0', '3', '1', '0', '2', '0', '0', '4', '0', '2', '1', '0', '1', '2', '3', '1', '0', '0', '4', '2', '3', '0', '0', '2', '1', '0', '0', '1', '2', '2', '2', '0', '3', '3', '0', '0', '0', '0']\n"
     ]
    }
   ],
   "source": [
    "age = []\n",
    "sex = []\n",
    "bmi = []\n",
    "children = []\n",
    "smoker = []\n",
    "region = []\n",
    "charges = []\n",
    "with open(\"insurance.csv\", newline= '') as ins_csv:\n",
    "    dataset=csv.DictReader(ins_csv, fieldnames = (\"age\", \"sex\", \"bmi\", \"children\", \"smoker\", \"region\", \"charges\"))\n",
    "    for row in dataset:\n",
    "        age.append(row[\"age\"])\n",
    "        sex.append(row[\"sex\"])\n",
    "        bmi.append(row[\"bmi\"])\n",
    "        children.append(row[\"children\"])\n",
    "        smoker.append(row[\"smoker\"])\n",
    "        region.append(row[\"region\"])\n",
    "        charges.append(row[\"charges\"])\n",
    "#Let's print out one of the lists just to see what it looks like. \n",
    "print(children)"
   ]
  },
  {
   "cell_type": "markdown",
   "metadata": {},
   "source": [
    "Two problems are apparent here: One is the column names are included in the lists at the 0 index. The second issue is that numerical values are being saved as strings. \n",
    "\n",
    "Let's fix those issues by cleaning the lists of their column names at index 0 and converting them to their proper data types (integers or floats)."
   ]
  },
  {
   "cell_type": "code",
   "execution_count": 262,
   "metadata": {},
   "outputs": [],
   "source": [
    "#shaving off the 0 index is the easier part:\n",
    "age1 = age[1:]\n",
    "sex1 = sex[1:]\n",
    "bmi1 = bmi[1:]\n",
    "children1 = children[1:]\n",
    "smoker1 = smoker[1:]\n",
    "region1 = region[1:]\n",
    "charges1 = charges[1:]\n",
    "\n",
    "#Now let's make two functions that can convert the lists to their proper data types.\n",
    "#bmi1 and charges1 need to be floats; children1 and age1 need to be integers.\n",
    "\n",
    "#smoker1, sex1, and region1 won't get converted because they store categorical data as strings, which is good!\n",
    "\n",
    "def make_float(lst):\n",
    "    for i in range(0, len(lst)):\n",
    "        lst[i] = float(lst[i])\n",
    "    return lst\n",
    "\n",
    "def make_int(lst):\n",
    "    for i in range(0, len(lst)):\n",
    "        lst[i] = int(lst[i])\n",
    "    return lst\n"
   ]
  },
  {
   "cell_type": "code",
   "execution_count": 263,
   "metadata": {},
   "outputs": [],
   "source": [
    "bmi2 = make_float(bmi1)\n",
    "charges2 = make_float(charges1)\n",
    "\n",
    "children2 = make_int(children1)\n",
    "age2 = make_int(age1)\n"
   ]
  },
  {
   "cell_type": "markdown",
   "metadata": {},
   "source": [
    "## Analysis\n",
    "\n",
    "Now we can begin analyzing the data. To start, let's get percentages for men/women, smokers/non-smokers, people with/without children, and people over/under 40. This will be important in seeing how representative our sample is. "
   ]
  },
  {
   "cell_type": "code",
   "execution_count": 264,
   "metadata": {
    "scrolled": true
   },
   "outputs": [
    {
     "name": "stdout",
     "output_type": "stream",
     "text": [
      "males in the dataset: 50.52%\n",
      "females in the dataset: 49.48%\n",
      "yess in the dataset: 20.48%\n",
      "nos in the dataset: 79.52%\n",
      "Percent of people over 0: 57.1%\n",
      "Percent of people at 0: 42.9%\n",
      "Percent of people under 0: 0.0%\n",
      "Percent of people over 40: 47.61%\n",
      "Percent of people at 40: 2.02%\n",
      "Percent of people under 40: 50.37%\n"
     ]
    }
   ],
   "source": [
    "#This will help us create a series of percentages regardless of the datatype in the list. \n",
    "#We'll use *args to represent the variables we're creating percents of within the dataset.\n",
    "def percent_maker(lst, *args):  \n",
    "    #subtracting 1 bc the first value of each list is the name of the column\n",
    "    for x in args:\n",
    "        if isinstance(x, str) is True:\n",
    "        #checking if arg is categorical\n",
    "            counter = lst.count(x)\n",
    "            percent = round((counter/len(lst)) * 100, 2)\n",
    "            print(f\"{x}s in the dataset: {percent}%\")\n",
    "        elif isinstance(x, int) or isinstance(x, float):\n",
    "        #checking if arg is numerical\n",
    "            over = 0\n",
    "            under = 0\n",
    "            at = 0\n",
    "            for i in lst:\n",
    "                if i > x:\n",
    "                    over += 1\n",
    "                elif i == x:\n",
    "                    at +=1\n",
    "                elif i < x:\n",
    "                    under +=1       \n",
    "            over_percent = round((over/len(lst)) * 100, 2)\n",
    "            under_percent = round((under/len(lst)) * 100, 2)\n",
    "            at_percent = round((at/len(lst)) * 100, 2)\n",
    "            print(f\"Percent of people over {x}: {over_percent}%\")\n",
    "            print(f\"Percent of people at {x}: {at_percent}%\")\n",
    "            print(f\"Percent of people under {x}: {under_percent}%\")\n",
    "percent_maker(sex1, \"male\", \"female\")\n",
    "percent_maker(smoker1, \"yes\", \"no\")\n",
    "percent_maker(children2, 0)\n",
    "percent_maker(age2, 40)"
   ]
  },
  {
   "cell_type": "markdown",
   "metadata": {},
   "source": [
    "The data seems pretty evenly distributed, except for the amount of smokers. The CDC percentage of smokers in the U.S. for 2020 was actually 12.5%. Smokers in our dataset were 20.48%, so about 8% more than average.\n",
    "\n",
    "Now let's find the average insurance cost for our dataset. \n",
    "\n",
    "Since we're going to be finding a lot of averages today, we're going to write a general-purpose average calculator function that we can use and modify for the rest of our questions."
   ]
  },
  {
   "cell_type": "code",
   "execution_count": 265,
   "metadata": {},
   "outputs": [
    {
     "name": "stdout",
     "output_type": "stream",
     "text": [
      "The average insurance cost in our dataset is $13270.42\n"
     ]
    }
   ],
   "source": [
    "avg_maker = lambda lst: round(sum(lst)/len(lst),2)\n",
    "print(\"The average insurance cost in our dataset is $\" + str(avg_maker(charges2)))"
   ]
  },
  {
   "cell_type": "markdown",
   "metadata": {},
   "source": [
    "Since we have data from different regions, let's see if there's a large difference in average insurance cost  by region."
   ]
  },
  {
   "cell_type": "code",
   "execution_count": 266,
   "metadata": {},
   "outputs": [
    {
     "name": "stdout",
     "output_type": "stream",
     "text": [
      "The average insurance cost in the southwest is $12346.94\n",
      "The average insurance cost in the southeast is $14735.41\n",
      "The average insurance cost in the northwest is $12417.58\n",
      "The average insurance cost in the northeast is $13406.38\n"
     ]
    }
   ],
   "source": [
    "cost_by_region = list(zip(region1, charges2))\n",
    "#print(cost_by_region)\n",
    "\n",
    "southwest_cost = [float(x[1]) for x in cost_by_region if \"southwest\" in x]\n",
    "southeast_cost = [float(x[1]) for x in cost_by_region if \"southeast\" in x]\n",
    "northwest_cost = [float(x[1]) for x in cost_by_region if \"northwest\" in x]\n",
    "northeast_cost = [float(x[1]) for x in cost_by_region if \"northeast\" in x]\n",
    "#print(len(southwest_cost) + len(southeast_cost) + len(northwest_cost) + len(northeast_cost))\n",
    "#^came out to 1338 so we know no records got left behind\n",
    "\n",
    "avg_sw_cost = avg_maker(southwest_cost)\n",
    "avg_se_cost = avg_maker(southeast_cost)\n",
    "avg_nw_cost = avg_maker(northwest_cost)\n",
    "avg_ne_cost = avg_maker(northeast_cost)\n",
    "\n",
    "print(\"The average insurance cost in the southwest is $\" + str(avg_sw_cost))\n",
    "print(\"The average insurance cost in the southeast is $\" + str(avg_se_cost))\n",
    "print(\"The average insurance cost in the northwest is $\" + str(avg_nw_cost))\n",
    "print(\"The average insurance cost in the northeast is $\" + str(avg_ne_cost))"
   ]
  },
  {
   "cell_type": "markdown",
   "metadata": {},
   "source": [
    "Do smokers have higher bmis? Even though we can't show causation with our data, we can still look for correlation. Here we'll calculate the average BMI for smokers vs. the average BMI for non-smokers. "
   ]
  },
  {
   "cell_type": "code",
   "execution_count": 267,
   "metadata": {},
   "outputs": [
    {
     "name": "stdout",
     "output_type": "stream",
     "text": [
      "The average BMI for smokers is 30.71.\n",
      "The average BMI for non-smokers is 30.65.\n"
     ]
    }
   ],
   "source": [
    "#our solution here will be similar to our last question\n",
    "bmi_by_smoking = list(zip(bmi2, smoker1))\n",
    "\n",
    "bmi_by_yes = [float(x[0]) for x in bmi_by_smoking if \"yes\" in x]\n",
    "bmi_by_no = [float(x[0]) for x in bmi_by_smoking if \"no\" in x]\n",
    "\n",
    "avg_smokers_bmi = avg_maker(bmi_by_yes)\n",
    "avg_nonsmokers_bmi = avg_maker(bmi_by_no)\n",
    "\n",
    "print(f\"The average BMI for smokers is {avg_smokers_bmi}.\")\n",
    "print(f\"The average BMI for non-smokers is {avg_nonsmokers_bmi}.\")"
   ]
  },
  {
   "cell_type": "markdown",
   "metadata": {},
   "source": [
    "Do women or men smoke more? And which sex of smoker has higher associated medical costs?\n",
    "We'll start by getting the count of men and women who smoke and then find their average cost of insurance. "
   ]
  },
  {
   "cell_type": "code",
   "execution_count": 268,
   "metadata": {},
   "outputs": [
    {
     "name": "stdout",
     "output_type": "stream",
     "text": [
      "There are 115 female smokers and 159 male smokers in the dataset.\n",
      "The average insurance cost for female smokers is $30679.0.\n",
      "The average insurance cost for male smokers is $33042.01.\n"
     ]
    }
   ],
   "source": [
    "#zip sex, smoker, charges\n",
    "sex_smoking_costs = list(zip(sex1, smoker1, charges2))\n",
    "#print(sex_smoking_costs)\n",
    "female_smokers = [x for x in sex_smoking_costs if \"female\" in x and \"yes\" in x]\n",
    "num_female_smokers = len(female_smokers)\n",
    "\n",
    "male_smokers = [x for x in sex_smoking_costs if \"male\" in x and \"yes\" in x]\n",
    "num_male_smokers = len(male_smokers)\n",
    "\n",
    "print(f\"There are {num_female_smokers} female smokers and {num_male_smokers} male smokers in the dataset.\")\n",
    "\n",
    "#now to find their average insurance costs...\n",
    "avg_m_smoker_cost = avg_maker([x[2] for x in male_smokers])\n",
    "avg_f_smoker_cost = avg_maker([x[2] for x in female_smokers])\n",
    "\n",
    "print(f\"The average insurance cost for female smokers is ${avg_f_smoker_cost}.\")\n",
    "print(f\"The average insurance cost for male smokers is ${avg_m_smoker_cost}.\")"
   ]
  },
  {
   "cell_type": "markdown",
   "metadata": {},
   "source": [
    "### Top 134\n",
    "\n",
    "Now I want to know some information about the people in our dataset with the highest medical costs. \n",
    "To look at the top 10% (aka 90th percentile) of our dataset of 1338, since we can't look at 133.8, we're rounding up to 134.\n",
    "\n",
    "We'll zip all the lists together into tuples that resemble the original rows in the .csv."
   ]
  },
  {
   "cell_type": "code",
   "execution_count": 269,
   "metadata": {},
   "outputs": [
    {
     "name": "stdout",
     "output_type": "stream",
     "text": [
      "[(54, 'female', 47.41, 0, 'yes', 'southeast', 63770.42801), (45, 'male', 30.36, 0, 'yes', 'southeast', 62592.87309), (52, 'male', 34.485, 3, 'yes', 'northwest', 60021.39897), (31, 'female', 38.095, 1, 'yes', 'northeast', 58571.07448), (33, 'female', 35.53, 0, 'yes', 'northwest', 55135.40209), (60, 'male', 32.8, 0, 'yes', 'southwest', 52590.82939), (28, 'male', 36.4, 1, 'yes', 'southwest', 51194.55914), (64, 'male', 36.96, 2, 'yes', 'southeast', 49577.6624), (59, 'male', 41.14, 1, 'yes', 'southeast', 48970.2476), (44, 'female', 38.06, 0, 'yes', 'southeast', 48885.13561), (63, 'female', 37.7, 0, 'yes', 'southwest', 48824.45), (57, 'male', 42.13, 1, 'yes', 'southeast', 48675.5177), (60, 'male', 40.92, 0, 'yes', 'southeast', 48673.5588), (54, 'male', 40.565, 3, 'yes', 'northeast', 48549.17835), (61, 'female', 36.385, 1, 'yes', 'northeast', 48517.56315), (60, 'male', 39.9, 0, 'yes', 'southwest', 48173.361), (64, 'female', 33.8, 1, 'yes', 'southwest', 47928.03), (59, 'female', 36.765, 1, 'yes', 'northeast', 47896.79135), (58, 'male', 36.955, 2, 'yes', 'northwest', 47496.49445), (51, 'male', 42.9, 2, 'yes', 'southeast', 47462.894), (61, 'male', 36.3, 1, 'yes', 'southwest', 47403.88), (63, 'female', 32.2, 2, 'yes', 'southwest', 47305.305), (64, 'female', 31.3, 2, 'yes', 'southwest', 47291.055), (52, 'male', 41.8, 2, 'yes', 'southeast', 47269.854), (63, 'male', 35.09, 0, 'yes', 'southeast', 47055.5321), (64, 'male', 33.88, 0, 'yes', 'southeast', 46889.2612), (62, 'male', 30.875, 3, 'yes', 'northwest', 46718.16325), (53, 'female', 36.86, 3, 'yes', 'northwest', 46661.4424), (61, 'male', 35.86, 0, 'yes', 'southeast', 46599.1084), (51, 'female', 37.05, 3, 'yes', 'northeast', 46255.1125), (44, 'female', 43.89, 2, 'yes', 'southeast', 46200.9851), (46, 'male', 42.35, 3, 'yes', 'southeast', 46151.1245), (60, 'male', 31.35, 3, 'yes', 'northwest', 46130.5265), (37, 'female', 47.6, 2, 'yes', 'southwest', 46113.511), (43, 'female', 46.2, 0, 'yes', 'southeast', 45863.205), (62, 'male', 32.015, 0, 'yes', 'northeast', 45710.20785), (48, 'male', 40.565, 2, 'yes', 'northwest', 45702.02235), (60, 'female', 32.45, 0, 'yes', 'southeast', 45008.9555), (51, 'female', 34.96, 2, 'yes', 'northeast', 44641.1974), (29, 'male', 35.5, 2, 'yes', 'southwest', 44585.45587), (22, 'male', 52.58, 1, 'yes', 'southeast', 44501.3982), (55, 'female', 35.2, 0, 'yes', 'southeast', 44423.803), (51, 'female', 38.06, 0, 'yes', 'southeast', 44400.4064), (54, 'male', 34.21, 2, 'yes', 'southeast', 44260.7499), (47, 'male', 38.94, 2, 'yes', 'southeast', 44202.6536), (34, 'female', 30.21, 1, 'yes', 'northwest', 43943.8761), (56, 'male', 33.63, 0, 'yes', 'northwest', 43921.1837), (42, 'female', 40.37, 2, 'yes', 'southeast', 43896.3763), (56, 'male', 31.79, 2, 'yes', 'southeast', 43813.8661), (36, 'male', 41.895, 3, 'yes', 'northeast', 43753.33705), (57, 'female', 31.16, 0, 'yes', 'northwest', 43578.9394), (53, 'male', 34.105, 0, 'yes', 'northeast', 43254.41795), (44, 'female', 38.95, 0, 'yes', 'northwest', 42983.4585), (47, 'female', 36.63, 1, 'yes', 'southeast', 42969.8527), (50, 'male', 34.2, 2, 'yes', 'southwest', 42856.838), (45, 'male', 36.48, 2, 'yes', 'northwest', 42760.5022), (43, 'male', 38.06, 2, 'yes', 'southeast', 42560.4304), (55, 'male', 30.685, 0, 'yes', 'northeast', 42303.69215), (47, 'male', 36.08, 1, 'yes', 'southeast', 42211.1382), (43, 'male', 35.97, 3, 'yes', 'southeast', 42124.5153), (25, 'male', 45.54, 2, 'yes', 'southeast', 42112.2356), (46, 'female', 35.53, 0, 'yes', 'northeast', 42111.6647), (54, 'male', 30.8, 1, 'yes', 'southeast', 41999.52), (38, 'male', 38.39, 3, 'yes', 'southeast', 41949.2441), (50, 'male', 32.3, 1, 'yes', 'northeast', 41919.097), (47, 'male', 36.19, 0, 'yes', 'southeast', 41676.0811), (46, 'female', 34.6, 1, 'yes', 'southwest', 41661.602), (50, 'male', 31.825, 0, 'yes', 'northeast', 41097.16175), (43, 'male', 34.96, 1, 'yes', 'northeast', 41034.2214), (48, 'female', 33.11, 0, 'yes', 'southeast', 40974.1649), (43, 'female', 32.56, 3, 'yes', 'southeast', 40941.2854), (30, 'female', 39.05, 3, 'yes', 'southeast', 40932.4295), (23, 'female', 42.75, 1, 'yes', 'northeast', 40904.1995), (46, 'male', 30.495, 3, 'yes', 'northwest', 40720.55105), (37, 'female', 38.39, 0, 'yes', 'southeast', 40419.0191), (41, 'male', 35.75, 1, 'yes', 'southeast', 40273.6455), (37, 'male', 34.1, 4, 'yes', 'southwest', 40182.246), (39, 'male', 35.3, 2, 'yes', 'southwest', 40103.89), (40, 'female', 32.775, 2, 'yes', 'northwest', 40003.33225), (35, 'female', 34.105, 3, 'yes', 'northwest', 39983.42595), (37, 'male', 37.07, 1, 'yes', 'southeast', 39871.7043), (37, 'female', 34.8, 2, 'yes', 'southwest', 39836.519), (35, 'male', 36.67, 1, 'yes', 'northeast', 39774.2763), (49, 'male', 30.9, 0, 'yes', 'southwest', 39727.614), (45, 'female', 30.495, 1, 'yes', 'northwest', 39725.51805), (19, 'male', 44.88, 0, 'yes', 'southeast', 39722.7462), (27, 'male', 42.13, 0, 'yes', 'southeast', 39611.7577), (41, 'male', 30.78, 3, 'yes', 'northeast', 39597.4072), (44, 'male', 31.35, 1, 'yes', 'northeast', 39556.4945), (30, 'male', 37.8, 2, 'yes', 'southwest', 39241.442), (40, 'male', 32.775, 1, 'yes', 'northeast', 39125.33225), (37, 'male', 34.2, 1, 'yes', 'northeast', 39047.285), (44, 'male', 30.2, 2, 'yes', 'southwest', 38998.546), (18, 'female', 42.24, 0, 'yes', 'southeast', 38792.6856), (31, 'male', 34.39, 3, 'yes', 'northwest', 38746.3551), (31, 'male', 36.3, 2, 'yes', 'southwest', 38711.0), (36, 'male', 35.2, 1, 'yes', 'southeast', 38709.176), (23, 'female', 36.67, 2, 'yes', 'northeast', 38511.6283), (36, 'male', 33.4, 2, 'yes', 'southwest', 38415.474), (20, 'male', 39.4, 2, 'yes', 'southwest', 38344.566), (33, 'male', 35.75, 1, 'yes', 'southeast', 38282.7495), (42, 'male', 26.07, 1, 'yes', 'southeast', 38245.59327), (24, 'male', 40.15, 0, 'yes', 'southeast', 38126.2465), (43, 'male', 27.8, 0, 'yes', 'southwest', 37829.7242), (36, 'male', 34.43, 0, 'yes', 'southeast', 37742.5757), (34, 'female', 31.92, 1, 'yes', 'northeast', 37701.8768), (32, 'male', 33.63, 1, 'yes', 'northeast', 37607.5277), (22, 'male', 37.07, 2, 'yes', 'southeast', 37484.4493), (20, 'male', 35.625, 3, 'yes', 'northwest', 37465.34375), (37, 'female', 30.78, 0, 'yes', 'northeast', 37270.1512), (22, 'male', 37.62, 1, 'yes', 'southeast', 37165.1638), (27, 'female', 36.08, 0, 'yes', 'southeast', 37133.8982), (33, 'female', 33.5, 0, 'yes', 'southwest', 37079.372), (30, 'male', 35.53, 0, 'yes', 'southeast', 36950.2567), (59, 'female', 34.8, 2, 'no', 'southwest', 36910.60803), (19, 'female', 32.49, 0, 'yes', 'northwest', 36898.73308), (30, 'male', 35.3, 0, 'yes', 'southwest', 36837.467), (61, 'female', 33.33, 4, 'no', 'southeast', 36580.28216), (19, 'female', 34.7, 2, 'yes', 'southwest', 36397.576), (18, 'male', 38.17, 0, 'yes', 'southeast', 36307.7983), (19, 'male', 36.955, 0, 'yes', 'northwest', 36219.40545), (29, 'male', 34.4, 0, 'yes', 'southwest', 36197.699), (23, 'male', 31.73, 3, 'yes', 'northeast', 36189.1017), (18, 'female', 36.85, 0, 'yes', 'southeast', 36149.4835), (25, 'male', 33.33, 2, 'yes', 'southeast', 36124.5737), (26, 'male', 32.9, 2, 'yes', 'southwest', 36085.219), (23, 'female', 32.78, 2, 'yes', 'southeast', 36021.0112), (22, 'female', 31.02, 3, 'yes', 'southeast', 35595.5898), (22, 'male', 35.6, 0, 'yes', 'southwest', 35585.576), (34, 'male', 30.8, 0, 'yes', 'southwest', 35491.64), (55, 'female', 26.8, 1, 'no', 'southwest', 35160.13457), (24, 'male', 28.5, 0, 'yes', 'northeast', 35147.52848), (45, 'male', 22.895, 0, 'yes', 'northeast', 35069.37452), (27, 'female', 31.4, 0, 'yes', 'southwest', 34838.873)]\n"
     ]
    }
   ],
   "source": [
    "all_data = list(zip(age2, sex1, bmi2, children2, smoker1, region1, charges2))\n",
    "#print(all_data)\n",
    "#To sort the list by highest medical costs, we'll use charges2 (index 6) as the key.\n",
    "all_data_by_cost = sorted(all_data, key=lambda info: -info[6]) \n",
    "#print(all_data_by_cost)\n",
    "top_134 = all_data_by_cost[0:134]\n",
    "print(top_134)"
   ]
  },
  {
   "cell_type": "markdown",
   "metadata": {},
   "source": [
    "Okay, interesting. Now let's get a percent for men and women in the top 10%. "
   ]
  },
  {
   "cell_type": "code",
   "execution_count": 270,
   "metadata": {},
   "outputs": [
    {
     "name": "stdout",
     "output_type": "stream",
     "text": [
      "males in the dataset: 62.69%\n",
      "females in the dataset: 37.31%\n",
      "None\n"
     ]
    }
   ],
   "source": [
    "top_134_sex = [i[1] for i in top_134]\n",
    "\n",
    "print(percent_maker(top_134_sex, \"male\", \"female\"))"
   ]
  },
  {
   "cell_type": "markdown",
   "metadata": {},
   "source": [
    "And of those men and women, how many have no children? How many have 1, 2, 3, or more?"
   ]
  },
  {
   "cell_type": "code",
   "execution_count": 271,
   "metadata": {},
   "outputs": [
    {
     "name": "stdout",
     "output_type": "stream",
     "text": [
      "In the 90th percentile of medical costs, 48 people had no children, 31 had one child, 34 had two children, 19 had three and 2 had more than three children.\n"
     ]
    }
   ],
   "source": [
    "no_children = []\n",
    "one_child = []\n",
    "two_children = []\n",
    "three_children = []\n",
    "more_kids = []\n",
    "\n",
    "for i in top_134:\n",
    "    if i[3] == 0:\n",
    "        no_children.append(i)\n",
    "    elif i[3] == 1:\n",
    "        one_child.append(i)\n",
    "    elif i[3] == 2:\n",
    "        two_children.append(i)\n",
    "    elif i[3] == 3:\n",
    "        three_children.append(i)\n",
    "    elif i[3] > 3:\n",
    "        more_kids.append(i)\n",
    "\n",
    "print(f\"In the 90th percentile of medical costs, {len(no_children)} people had no children, {len(one_child)} had one child, {len(two_children)} had two children, {len(three_children)} had three and {len(more_kids)} had more than three children.\"\n",
    "     )\n"
   ]
  },
  {
   "cell_type": "markdown",
   "metadata": {},
   "source": [
    "What is the average BMI in the top 134?"
   ]
  },
  {
   "cell_type": "code",
   "execution_count": 272,
   "metadata": {},
   "outputs": [
    {
     "name": "stdout",
     "output_type": "stream",
     "text": [
      "35.65\n"
     ]
    }
   ],
   "source": [
    "avg_134_bmi = avg_maker([x[2] for x in top_134])\n",
    "print(avg_134_bmi)"
   ]
  },
  {
   "cell_type": "markdown",
   "metadata": {},
   "source": [
    "What is the average age in the top 134?"
   ]
  },
  {
   "cell_type": "code",
   "execution_count": 273,
   "metadata": {},
   "outputs": [
    {
     "name": "stdout",
     "output_type": "stream",
     "text": [
      "41.78\n"
     ]
    }
   ],
   "source": [
    "avg_134_age = avg_maker([x[0] for x in top_134])\n",
    "print(avg_134_age)"
   ]
  }
 ],
 "metadata": {
  "celltoolbar": "Raw Cell Format",
  "kernelspec": {
   "display_name": "Python 3 (ipykernel)",
   "language": "python",
   "name": "python3"
  },
  "language_info": {
   "codemirror_mode": {
    "name": "ipython",
    "version": 3
   },
   "file_extension": ".py",
   "mimetype": "text/x-python",
   "name": "python",
   "nbconvert_exporter": "python",
   "pygments_lexer": "ipython3",
   "version": "3.9.13"
  }
 },
 "nbformat": 4,
 "nbformat_minor": 4
}
